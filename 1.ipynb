{
 "cells": [
  {
   "cell_type": "code",
   "execution_count": null,
   "id": "71a64d9b",
   "metadata": {},
   "outputs": [],
   "source": [
    "import seaborn as sns\n",
    "import plotly.express as px\n",
    "\n",
    "# Load the \"titanic\" dataset\n",
    "titanic_data = sns.load_dataset(\"titanic\")\n",
    "\n",
    "# Create a scatter plot using Plotly Express\n",
    "fig = px.scatter(titanic_data, x=\"age\", y=\"fare\", title=\"Scatter Plot of Age vs. Fare in Titanic Dataset\")\n",
    "\n",
    "# Show the plot\n",
    "fig.show()\n"
   ]
  },
  {
   "cell_type": "markdown",
   "id": "0003a861",
   "metadata": {},
   "source": [
    "In this code:\n",
    "\n",
    "We load the \"titanic\" dataset using sns.load_dataset(\"titanic\").\n",
    "\n",
    "We create a scatter plot using Plotly Express with px.scatter(), specifying 'age' as the x-axis variable and 'fare' as the y-axis variable. We also set a title for the plot.\n",
    "\n",
    "Finally, we use fig.show() to display the scatter plot created with Plotly Express.\n",
    "\n",
    "This code will generate an interactive scatter plot for the 'age' and 'fare' columns in the \"titanic\" dataset using Plotly Express, allowing you to explore the data points and interact with the plot."
   ]
  }
 ],
 "metadata": {
  "kernelspec": {
   "display_name": "Python 3 (ipykernel)",
   "language": "python",
   "name": "python3"
  },
  "language_info": {
   "codemirror_mode": {
    "name": "ipython",
    "version": 3
   },
   "file_extension": ".py",
   "mimetype": "text/x-python",
   "name": "python",
   "nbconvert_exporter": "python",
   "pygments_lexer": "ipython3",
   "version": "3.10.9"
  }
 },
 "nbformat": 4,
 "nbformat_minor": 5
}
