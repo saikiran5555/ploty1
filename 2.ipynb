{
 "cells": [
  {
   "cell_type": "code",
   "execution_count": null,
   "id": "9879e90d",
   "metadata": {},
   "outputs": [],
   "source": [
    "import plotly.express as px\n",
    "\n",
    "# Load the tips dataset from Plotly\n",
    "df = px.data.tips\n",
    "\n",
    "# Create a box plot using Plotly Express\n",
    "fig = px.box(df, x=\"day\", y=\"total_bill\", title=\"Box Plot of Total Bill Amount by Day\")\n",
    "\n",
    "# Show the plot\n",
    "fig.show()\n"
   ]
  },
  {
   "cell_type": "markdown",
   "id": "be597ad8",
   "metadata": {},
   "source": [
    "In this code:\n",
    "\n",
    "We load the \"tips\" dataset from Plotly using px.data.tips.\n",
    "\n",
    "We create a box plot using Plotly Express with px.box(), specifying \"day\" as the x-axis variable and \"total_bill\" as the y-axis variable. We also set a title for the plot.\n",
    "\n",
    "Finally, we use fig.show() to display the box plot created with Plotly Express.\n",
    "\n",
    "This code will generate an interactive box plot showing the distribution of the \"total_bill\" amount for different days in the \"tips\" dataset. You can interact with the plot to see quartiles, outliers, and other statistical information."
   ]
  }
 ],
 "metadata": {
  "kernelspec": {
   "display_name": "Python 3 (ipykernel)",
   "language": "python",
   "name": "python3"
  },
  "language_info": {
   "codemirror_mode": {
    "name": "ipython",
    "version": 3
   },
   "file_extension": ".py",
   "mimetype": "text/x-python",
   "name": "python",
   "nbconvert_exporter": "python",
   "pygments_lexer": "ipython3",
   "version": "3.10.9"
  }
 },
 "nbformat": 4,
 "nbformat_minor": 5
}
